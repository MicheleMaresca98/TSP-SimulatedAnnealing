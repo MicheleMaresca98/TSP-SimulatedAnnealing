{
 "cells": [
  {
   "cell_type": "markdown",
   "id": "regulated-mention",
   "metadata": {},
   "source": [
    "# Problema del commesso viaggiatore simmetrico (TSP)"
   ]
  },
  {
   "cell_type": "markdown",
   "id": "acoustic-blond",
   "metadata": {},
   "source": [
    "## Variabili di decisione\n",
    "\n",
    "$x_{ij} (i, j) \\in A$ variabile binaria uguale ad 1 se l'arco $(i, j)$ appartiene al circuito hamiltoniano, 0 altrimenti."
   ]
  },
  {
   "cell_type": "markdown",
   "id": "adjustable-impossible",
   "metadata": {},
   "source": [
    "## Funzione obiettivo\n",
    "\n",
    "Minimizzare il costo totale del circuito hamiltoniano\n",
    "\n",
    "\\begin{equation}\n",
    "\\text{min} \\quad \\sum_{(i,j) \\in A} d_{ij} \\cdot x_{ij}\n",
    "\\tag{0}\n",
    "\\end{equation}"
   ]
  },
  {
   "cell_type": "markdown",
   "id": "addressed-attendance",
   "metadata": {},
   "source": [
    "## Vincoli\n",
    "\n",
    "- **Vincoli di assegnamento** In un circuito hamiltoniano ogni nodo deve avere esattamente un arco entrante ed esattamente un arco uscente.\n",
    "\n",
    "\\begin{equation}\n",
    "\\sum_{i: (i,j) \\in A} x_{ij} = 1 \\quad j \\in V\n",
    "\\tag{1}\n",
    "\\end{equation}\n",
    "\n",
    "\\begin{equation}\n",
    "\\sum_{i: (j,i) \\in A} x_{ji} = 1 \\quad j \\in V\n",
    "\\tag{2}\n",
    "\\end{equation}\n",
    "\n",
    "- **Vincoli di assenza di sottogiri** In un circuito hamiltoniano non possono esserci cicli su un sottoinsieme proprio dell'insieme dei nodi $V$.\n",
    "\n",
    "\\begin{equation}\n",
    "\\sum_{i \\in S , j \\in S : (i,j) \\in A} x_{ij} \\leq |S|-1 \\quad S \\subset V : 2 \\leq |S| \\leq |V|-1\n",
    "\\tag{3}\n",
    "\\end{equation}\n"
   ]
  },
  {
   "cell_type": "code",
   "execution_count": 1,
   "id": "unauthorized-lebanon",
   "metadata": {},
   "outputs": [],
   "source": [
    "def leggi_coordinate(path):\n",
    "    indice_linea_dimensione = 4\n",
    "    indice_inizio_linee_coordinate = 9\n",
    "    coordinate = []\n",
    "    with open(path, \"r\") as f:\n",
    "        linee = f.readlines()\n",
    "        linee[indice_linea_dimensione - 1].strip('\\n')\n",
    "        data = linee[indice_linea_dimensione - 1].split(':')\n",
    "        dimensione = int(data[1])\n",
    "        for i in range(0, dimensione):\n",
    "            data = linee[indice_inizio_linee_coordinate - 1 + i].split()\n",
    "            coordinata = [float(data[1]),float(data[2])]\n",
    "            coordinate.append(coordinata)\n",
    "    return coordinate, dimensione"
   ]
  },
  {
   "cell_type": "code",
   "execution_count": 2,
   "id": "collectible-layer",
   "metadata": {},
   "outputs": [],
   "source": [
    "coordinate, dimensione = leggi_coordinate(\"burma14.txt\")"
   ]
  },
  {
   "cell_type": "code",
   "execution_count": 3,
   "id": "recovered-princeton",
   "metadata": {},
   "outputs": [],
   "source": [
    "import math\n",
    "\n",
    "def calcolo_distanza(nodo1,nodo2):\n",
    "    n1, n2 = coordinate[nodo1], coordinate[nodo2]\n",
    "    return math.sqrt( ((n1[0]-n2[0]) ** 2) + ((n1[1]-n2[1]) ** 2) )"
   ]
  },
  {
   "cell_type": "code",
   "execution_count": 4,
   "id": "loved-painting",
   "metadata": {},
   "outputs": [],
   "source": [
    "nodi = [i for i in range(dimensione)]\n",
    "distanze = {(n1,n2): calcolo_distanza(n1, n2) for n1 in nodi for n2 in nodi if n1 != n2}"
   ]
  },
  {
   "cell_type": "code",
   "execution_count": 5,
   "id": "varied-completion",
   "metadata": {},
   "outputs": [
    {
     "name": "stdout",
     "output_type": "stream",
     "text": [
      "Academic license - for non-commercial use only - expires 2021-07-17\n",
      "Using license file C:\\Users\\hp\\gurobi.lic\n"
     ]
    }
   ],
   "source": [
    "import gurobipy as gp\n",
    "from gurobipy import GRB\n",
    "\n",
    "mod = gp.Model('TSP')\n",
    "vars = mod.addVars(distanze.keys(), obj = distanze, vtype=GRB.BINARY, name = 'x')"
   ]
  },
  {
   "cell_type": "code",
   "execution_count": 6,
   "id": "executive-steal",
   "metadata": {},
   "outputs": [],
   "source": [
    "v1 = mod.addConstrs(vars.sum('*',j) == 1 for j in nodi)\n",
    "v2 = mod.addConstrs(vars.sum(j,'*') == 1 for j in nodi)"
   ]
  },
  {
   "cell_type": "code",
   "execution_count": 7,
   "id": "structured-buying",
   "metadata": {},
   "outputs": [],
   "source": [
    "# Da implementare subtour\n",
    "def calcola_sottogiro_minore(archi):\n",
    "    unvisited = nodi[:]\n",
    "    cycle = nodi[:]\n",
    "    while unvisited:\n",
    "        thiscycle = []\n",
    "        neighbors = unvisited\n",
    "        while neighbors:\n",
    "            current = neighbors[0]\n",
    "            thiscycle.append(current)\n",
    "            unvisited.remove(current)\n",
    "            neighbors = [j for i, j in archi.select(current, '*') if j in unvisited]\n",
    "        if len(thiscycle) <= len(cycle):\n",
    "            cycle = thiscycle\n",
    "    return cycle"
   ]
  },
  {
   "cell_type": "code",
   "execution_count": 8,
   "id": "mounted-suspect",
   "metadata": {},
   "outputs": [],
   "source": [
    "def eliminazione_sottogiri(model, where):\n",
    "    if where == GRB.Callback.MIPSOL:\n",
    "        vals = model.cbGetSolution(model._vars)\n",
    "        selected = gp.tuplelist((i, j) for i, j in vals.keys() if vals[i, j] > 0.5)\n",
    "        tour = calcola_sottogiro_minore(selected)\n",
    "        if len(tour) < len(nodi):\n",
    "            model.cbLazy(gp.quicksum(model._vars[i, j] for i in tour for j in tour if i != j) <= len(tour) - 1)"
   ]
  },
  {
   "cell_type": "code",
   "execution_count": 9,
   "id": "modular-treasure",
   "metadata": {},
   "outputs": [
    {
     "name": "stdout",
     "output_type": "stream",
     "text": [
      "Changed value of parameter lazyConstraints to 1\n",
      "   Prev: 0  Min: 0  Max: 1  Default: 0\n",
      "Gurobi Optimizer version 9.1.1 build v9.1.1rc0 (win64)\n",
      "Thread count: 4 physical cores, 8 logical processors, using up to 8 threads\n",
      "Optimize a model with 28 rows, 182 columns and 364 nonzeros\n",
      "Model fingerprint: 0x7890c851\n",
      "Variable types: 0 continuous, 182 integer (182 binary)\n",
      "Coefficient statistics:\n",
      "  Matrix range     [1e+00, 1e+00]\n",
      "  Objective range  [2e-01, 1e+01]\n",
      "  Bounds range     [1e+00, 1e+00]\n",
      "  RHS range        [1e+00, 1e+00]\n",
      "Presolve time: 0.00s\n",
      "Presolved: 28 rows, 182 columns, 364 nonzeros\n",
      "Variable types: 0 continuous, 182 integer (182 binary)\n",
      "\n",
      "Root relaxation: objective 2.667132e+01, 24 iterations, 0.00 seconds\n",
      "\n",
      "    Nodes    |    Current Node    |     Objective Bounds      |     Work\n",
      " Expl Unexpl |  Obj  Depth IntInf | Incumbent    BestBd   Gap | It/Node Time\n",
      "\n",
      "*    0     0               0      30.8785039   30.87850  0.00%     -    0s\n",
      "\n",
      "Cutting planes:\n",
      "  Lazy constraints: 5\n",
      "\n",
      "Explored 0 nodes (40 simplex iterations) in 0.03 seconds\n",
      "Thread count was 8 (of 8 available processors)\n",
      "\n",
      "Solution count 1: 30.8785 \n",
      "\n",
      "Optimal solution found (tolerance 1.00e-04)\n",
      "Best objective 3.087850389259e+01, best bound 3.087850389259e+01, gap 0.0000%\n",
      "\n",
      "User-callback calls 55, time in user-callback 0.01 sec\n"
     ]
    }
   ],
   "source": [
    "mod._vars = vars\n",
    "mod.Params.lazyConstraints = 1\n",
    "mod.optimize(eliminazione_sottogiri)"
   ]
  },
  {
   "cell_type": "code",
   "execution_count": 10,
   "id": "french-passport",
   "metadata": {},
   "outputs": [],
   "source": [
    "vals = mod.getAttr('x',vars)\n",
    "selected = gp.tuplelist((i, j) for i, j in vals.keys() if vals[i, j] > 0.5)\n",
    "\n",
    "tour = calcola_sottogiro_minore(selected)\n",
    "assert len(tour) == len(nodi)"
   ]
  },
  {
   "cell_type": "code",
   "execution_count": 11,
   "id": "neural-hayes",
   "metadata": {},
   "outputs": [
    {
     "data": {
      "text/plain": [
       "[0, 9, 8, 10, 7, 12, 6, 11, 5, 4, 3, 2, 13, 1]"
      ]
     },
     "execution_count": 11,
     "metadata": {},
     "output_type": "execute_result"
    }
   ],
   "source": [
    "tour"
   ]
  }
 ],
 "metadata": {
  "kernelspec": {
   "display_name": "Python 3",
   "language": "python",
   "name": "python3"
  },
  "language_info": {
   "codemirror_mode": {
    "name": "ipython",
    "version": 3
   },
   "file_extension": ".py",
   "mimetype": "text/x-python",
   "name": "python",
   "nbconvert_exporter": "python",
   "pygments_lexer": "ipython3",
   "version": "3.7.6"
  }
 },
 "nbformat": 4,
 "nbformat_minor": 5
}
