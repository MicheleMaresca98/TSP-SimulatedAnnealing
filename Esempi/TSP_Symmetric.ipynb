{
 "cells": [
  {
   "cell_type": "markdown",
   "metadata": {},
   "source": [
    "# Problema del commesso viaggatore Simmetrico (TSP)"
   ]
  },
  {
   "cell_type": "markdown",
   "metadata": {},
   "source": [
    "## Definizione\n",
    "### Dato un grafo $G(V,A)$ a cui è associato un costo $d_{ij}$ ad ogni arco $(i,j) \\in A$. Il problema del commesso viaggiatore consiste nel cercare il circuito Hamiltoniano di costo minimo.\n",
    "### - Un ciclo Hamiltoniano è un ciclo che attraversa tutti i nodi del grafo una ed una sola volta.\n",
    "### - Il costo di un ciclo Hamiltoniano è dato dalla somma dei costi degli archi che lo compongono."
   ]
  },
  {
   "cell_type": "markdown",
   "metadata": {},
   "source": [
    "## Definizione"
   ]
  },
  {
   "cell_type": "markdown",
   "metadata": {},
   "source": [
    "## Variabili di decisione\n",
    "\n",
    "### <span style=\"color:purple\">$x_{ij} \\quad (i,j) \\in A $ </span>  - variabile binaria uguale a $1$ se l'arco $(i,j)$ appartiene al circuito hamiltoniano, 0 altrimenti.\n",
    "\n",
    "\n",
    "### Funzione obiettivo\n",
    "Minimizza il costo totale del circuito hamiltoniano\n",
    "\n",
    "\\begin{equation}\n",
    "\\text{Min} \\quad Z = \\sum_{(i,j) \\in A} d_{ij} \\cdot x_{ij}\n",
    "\\tag{0}\n",
    "\\end{equation}\n",
    "\n",
    "### Constraints \n",
    "- **Vincoli di assegnamento**. In una soluzione ammissibile (circuito hamiltoniano) ogni nodo deve avere esattamente un arco entrante ed esattamente un arco uscente.\n",
    "\n",
    "\\begin{equation}\n",
    "\\sum_{i \\in V, \\ i \\neq j} x_{ij} = 1 \\quad \\quad j \\in V \n",
    "\\tag{1}\n",
    "\\end{equation}\n",
    "\n",
    "\\begin{equation}\n",
    "\\sum_{i \\in V, \\ i \\neq j} x_{ji} = 1 \\quad \\quad j \\in V \n",
    "\\tag{2}\n",
    "\\end{equation}\n",
    "\n",
    "- **Vincoli di assenza di sottogiri**. In una soluzione ammissibile (circuito hamiltoniano) non ci possono essere cicli su un sottoinsime proprio dell'insieme dei nodi $V$.\n",
    "\n",
    "\\begin{equation}\n",
    "\\sum_{i,j \\in S, \\ (i \\neq j)}x_{i,j} \\leq |S|-1 \\quad \\quad  S \\subset V\n",
    "\\tag{3}\n",
    "\\end{equation}"
   ]
  },
  {
   "cell_type": "code",
   "execution_count": 1,
   "metadata": {},
   "outputs": [],
   "source": [
    "def read_coords(path):\n",
    "    coords = []\n",
    "    with open(path, \"r\") as f:\n",
    "        for i in range(0, 3):\n",
    "                line = f.readline()\n",
    "        line = f.readline()\n",
    "        line = line.strip('\\n')\n",
    "        data = line.split(':')\n",
    "        dimension = int(data[1])\n",
    "        for i in range(0, 4):\n",
    "            line = f.readline()\n",
    "        for i in range(0, dimension):\n",
    "            line = f.readline()\n",
    "            data = line.split()\n",
    "            coord = [float(data[1]), float(data[2])]\n",
    "            coords.append(coord)\n",
    "    return coords, dimension"
   ]
  },
  {
   "cell_type": "code",
   "execution_count": 2,
   "metadata": {},
   "outputs": [],
   "source": [
    "coords, dimension = read_coords(\"burma14.txt\")"
   ]
  },
  {
   "cell_type": "code",
   "execution_count": 3,
   "metadata": {},
   "outputs": [],
   "source": [
    "import math\n",
    "from itertools import combinations\n",
    "\n",
    "def distance(city1, city2):\n",
    "    c1 = coords[city1]\n",
    "    c2 = coords[city2]\n",
    "    diff = (c1[0]-c2[0], c1[1]-c2[1])\n",
    "    return math.sqrt(diff[0]*diff[0]+diff[1]*diff[1])\n",
    "\n",
    "nodes = [i for i in range(len(coords))]\n",
    "dist = {(c1, c2): distance(c1, c2) for c1 in nodes for c2 in nodes if c1 != c2 }"
   ]
  },
  {
   "cell_type": "code",
   "execution_count": 4,
   "metadata": {},
   "outputs": [],
   "source": [
    " #def dist(node_0, node_1):\n",
    " #       \"\"\"\n",
    " #       Euclidean distance between two nodes.\n",
    " #       \"\"\"\n",
    " #       coord_0, coord_1 = coords[node_0], coords[node_1]\n",
    " #       return math.sqrt((coord_0[0] - coord_1[0]) ** 2 + (coord_0[1] - coord_1[1]) ** 2)"
   ]
  },
  {
   "cell_type": "code",
   "execution_count": 5,
   "metadata": {},
   "outputs": [
    {
     "name": "stdout",
     "output_type": "stream",
     "text": [
      "Academic license - for non-commercial use only - expires 2021-07-17\n",
      "Using license file C:\\Users\\hp\\gurobi.lic\n"
     ]
    }
   ],
   "source": [
    "import gurobipy as gp\n",
    "from gurobipy import GRB\n",
    "\n",
    "import numpy as np\n",
    "\n",
    "# Inizializza il modelo\n",
    "mod = gp.Model('TSP')\n",
    "\n",
    "# Crea le varibili di decisione\n",
    "vars = mod.addVars(dist.keys(), obj=dist, vtype=GRB.BINARY, name='x')"
   ]
  },
  {
   "cell_type": "code",
   "execution_count": 6,
   "metadata": {},
   "outputs": [],
   "source": [
    "\n",
    "outstar = mod.addConstrs(vars.sum(i, '*') == 1 for i in nodes)\n",
    "\n",
    "instar = mod.addConstrs(vars.sum('*', i) == 1 for i in nodes)"
   ]
  },
  {
   "cell_type": "code",
   "execution_count": 7,
   "metadata": {},
   "outputs": [],
   "source": [
    "def subtourelim(model, where):\n",
    "    if where == GRB.Callback.MIPSOL:\n",
    "        # preleva la soluzione corrente\n",
    "        vals = model.cbGetSolution(model._vars)\n",
    "        selected = gp.tuplelist((i,j) for i, j in model._vars.keys() if vals[i,j] > 0.5)\n",
    "        # cerca il ciclo di lunghezza minima nella soluzione\n",
    "        tour = subtour(selected)\n",
    "        if len(tour) < len(nodes):\n",
    "            # aggiunge il vincolo di eliminazione di sottogiro\n",
    "            model.cbLazy(gp.quicksum(model._vars[i,j] for i in tour for j in tour if i != j )\n",
    "                         <= len(tour)-1)\n",
    "\n",
    "def subtour(edges):\n",
    "    unvisited = nodes[:]\n",
    "    cycle = nodes[:] \n",
    "    while unvisited:  # true if list is non-empty\n",
    "        thiscycle = []\n",
    "        neighbors = unvisited\n",
    "        while neighbors:\n",
    "            current = neighbors[0]\n",
    "            thiscycle.append(current)\n",
    "            unvisited.remove(current)\n",
    "            neighbors = [j for i, j in edges.select(current, '*')\n",
    "                         if j in unvisited]\n",
    "        if len(thiscycle) <= len(cycle):\n",
    "            cycle = thiscycle # New shortest subtour\n",
    "    return cycle"
   ]
  },
  {
   "cell_type": "code",
   "execution_count": 8,
   "metadata": {},
   "outputs": [
    {
     "name": "stdout",
     "output_type": "stream",
     "text": [
      "Changed value of parameter lazyConstraints to 1\n",
      "   Prev: 0  Min: 0  Max: 1  Default: 0\n",
      "Gurobi Optimizer version 9.1.1 build v9.1.1rc0 (win64)\n",
      "Thread count: 4 physical cores, 8 logical processors, using up to 8 threads\n",
      "Optimize a model with 28 rows, 182 columns and 364 nonzeros\n",
      "Model fingerprint: 0x9fd055e7\n",
      "Variable types: 0 continuous, 182 integer (182 binary)\n",
      "Coefficient statistics:\n",
      "  Matrix range     [1e+00, 1e+00]\n",
      "  Objective range  [2e-01, 1e+01]\n",
      "  Bounds range     [1e+00, 1e+00]\n",
      "  RHS range        [1e+00, 1e+00]\n",
      "Presolve time: 0.00s\n",
      "Presolved: 28 rows, 182 columns, 364 nonzeros\n",
      "Variable types: 0 continuous, 182 integer (182 binary)\n",
      "\n",
      "Root relaxation: objective 2.667132e+01, 24 iterations, 0.00 seconds\n",
      "\n",
      "    Nodes    |    Current Node    |     Objective Bounds      |     Work\n",
      " Expl Unexpl |  Obj  Depth IntInf | Incumbent    BestBd   Gap | It/Node Time\n",
      "\n",
      "*    0     0               0      30.8785039   30.87850  0.00%     -    0s\n",
      "\n",
      "Cutting planes:\n",
      "  Lazy constraints: 5\n",
      "\n",
      "Explored 0 nodes (39 simplex iterations) in 0.03 seconds\n",
      "Thread count was 8 (of 8 available processors)\n",
      "\n",
      "Solution count 1: 30.8785 \n",
      "\n",
      "Optimal solution found (tolerance 1.00e-04)\n",
      "Best objective 3.087850389259e+01, best bound 3.087850389259e+01, gap 0.0000%\n",
      "\n",
      "User-callback calls 49, time in user-callback 0.00 sec\n"
     ]
    }
   ],
   "source": [
    "mod._vars = vars\n",
    "mod.Params.lazyConstraints = 1\n",
    "mod.optimize(subtourelim)"
   ]
  },
  {
   "cell_type": "code",
   "execution_count": 9,
   "metadata": {},
   "outputs": [],
   "source": [
    "vals = mod.getAttr('x', vars)\n",
    "selected = gp.tuplelist((i, j) for i, j in vals.keys() if vals[i, j] > 0.5)\n",
    "\n",
    "tour = subtour(selected)\n",
    "assert len(tour) == len(nodes)"
   ]
  },
  {
   "cell_type": "code",
   "execution_count": 10,
   "metadata": {},
   "outputs": [
    {
     "data": {
      "text/plain": [
       "[0, 1, 13, 2, 3, 4, 5, 11, 6, 12, 7, 10, 8, 9]"
      ]
     },
     "execution_count": 10,
     "metadata": {},
     "output_type": "execute_result"
    }
   ],
   "source": [
    "tour"
   ]
  },
  {
   "cell_type": "code",
   "execution_count": 11,
   "metadata": {},
   "outputs": [],
   "source": [
    "#import matplotlib.pyplot as plt\n",
    "#import networkx as nx\n",
    "\n",
    "#Graph = nx.DiGraph()\n",
    "#list_nodes = list(range(1, num_nodes+1))\n",
    "#Graph.add_nodes_from(list_nodes)\n",
    "#for i,j in links:\n",
    "#    Graph.add_edge(i,j)\n",
    "\n",
    "# Definisce la posizione di ogni nodo\n",
    "#node_pos = coords\n",
    "\n",
    "# Crea la lista di archi della soluzione\n",
    "#red_edges = [(i,j) for i,j in links if x[i,j].x > 0]\n",
    "\n",
    "# Crea la lista di nodi della soluzione\n",
    "#shortestpath = [ i for i,j in links if x[i,j].x > 0 ]\n",
    "#shortestpath.append(destination)\n",
    "\n",
    "# Colora di rosso i nodi della soluzione e di verde gli altri\n",
    "#node_col = ['green' if not node in shortestpath else 'red' for node in Graph.nodes()]\n",
    "# Colora di rosso gli archi della soluzione e di nero gli altri\n",
    "#edge_col = ['black' if not edge in red_edges else 'red' for edge in Graph.edges()]\n",
    "\n",
    "# Draw the nodes\n",
    "#nx.draw_networkx(Graph,node_pos, node_color= node_col, node_size=450)\n",
    "\n",
    "# Draw the edges\n",
    "#nx.draw_networkx_edges(Graph, node_pos,edge_color= edge_col)\n",
    "\n",
    "# Draw the edge labels\n",
    "#nx.draw_networkx_edge_labels(Graph, node_pos, edge_labels=cost)\n",
    "\n",
    "# Show the plot\n",
    "#plt.show()"
   ]
  },
  {
   "cell_type": "code",
   "execution_count": null,
   "metadata": {},
   "outputs": [],
   "source": []
  },
  {
   "cell_type": "code",
   "execution_count": null,
   "metadata": {},
   "outputs": [],
   "source": []
  }
 ],
 "metadata": {
  "kernelspec": {
   "display_name": "Python 3",
   "language": "python",
   "name": "python3"
  },
  "language_info": {
   "codemirror_mode": {
    "name": "ipython",
    "version": 3
   },
   "file_extension": ".py",
   "mimetype": "text/x-python",
   "name": "python",
   "nbconvert_exporter": "python",
   "pygments_lexer": "ipython3",
   "version": "3.7.6"
  }
 },
 "nbformat": 4,
 "nbformat_minor": 4
}
