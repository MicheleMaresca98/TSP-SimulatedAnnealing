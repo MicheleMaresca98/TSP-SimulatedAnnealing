{
 "cells": [
  {
   "cell_type": "markdown",
   "metadata": {},
   "source": [
    "# Problema del commesso viaggatore Simmetrico (TSP)"
   ]
  },
  {
   "cell_type": "markdown",
   "metadata": {},
   "source": [
    "## Definizione\n",
    "### Dato un grafo $G(V,A)$ a cui è associato un costo $d_{ij}$ ad ogni arco $(i,j) \\in A$. Il problema del commesso viaggiatore consiste nel cercare il circuito Hamiltoniano di costo minimo.\n",
    "### - Un ciclo Hamiltoniano è un ciclo che attraversa tutti i nodi del grafo una ed una sola volta.\n",
    "### - Il costo di un ciclo Hamiltoniano è dato dalla somma dei costi degli archi che lo compongono."
   ]
  },
  {
   "cell_type": "markdown",
   "metadata": {},
   "source": [
    "## Definizione"
   ]
  },
  {
   "cell_type": "markdown",
   "metadata": {},
   "source": [
    "## Variabili di decisione\n",
    "\n",
    "### <span style=\"color:purple\">$x_{ij} \\quad (i,j) \\in A $ </span>  - variabile binaria uguale a $1$ se l'arco $(i,j)$ appartiene al circuito hamiltoniano, 0 altrimenti.\n",
    "\n",
    "\n",
    "### Funzione obiettivo\n",
    "Minimizza il costo totale del circuito hamiltoniano\n",
    "\n",
    "\\begin{equation}\n",
    "\\text{Min} \\quad Z = \\sum_{(i,j) \\in A} d_{ij} \\cdot x_{ij}\n",
    "\\tag{0}\n",
    "\\end{equation}\n",
    "\n",
    "### Constraints \n",
    "- **Vincoli di assegnamento**. In una soluzione ammissibile (circuito hamiltoniano) ogni nodo deve avere esattamente un arco entrante ed esattamente un arco uscente.\n",
    "\n",
    "\\begin{equation}\n",
    "\\sum_{i \\in V, \\ i \\neq j} x_{ij} = 1 \\quad \\quad j \\in V \n",
    "\\tag{1}\n",
    "\\end{equation}\n",
    "\n",
    "\\begin{equation}\n",
    "\\sum_{i \\in V, \\ i \\neq j} x_{ji} = 1 \\quad \\quad j \\in V \n",
    "\\tag{2}\n",
    "\\end{equation}\n",
    "\n",
    "- **Vincoli di assenza di sottogiri**. In una soluzione ammissibile (circuito hamiltoniano) non ci possono essere cicli su un sottoinsime proprio dell'insieme dei nodi $V$.\n",
    "\n",
    "\\begin{equation}\n",
    "\\sum_{i,j \\in S, \\ (i \\neq j)}x_{i,j} \\leq |S|-1 \\quad \\quad  S \\subset V\n",
    "\\tag{3}\n",
    "\\end{equation}"
   ]
  },
  {
   "cell_type": "code",
   "execution_count": 1,
   "metadata": {},
   "outputs": [],
   "source": [
    "def read_coords(path):\n",
    "    coords = []\n",
    "    with open(path, \"r\") as f:\n",
    "        for i in range(0, 3):\n",
    "                line = f.readline()\n",
    "        line = f.readline()\n",
    "        line = line.strip('\\n')\n",
    "        data = line.split(':')\n",
    "        dimension = int(data[1])\n",
    "        for i in range(0, 4):\n",
    "            line = f.readline()\n",
    "        for i in range(0, dimension):\n",
    "            line = f.readline()\n",
    "            data = line.split()\n",
    "            coord = [float(data[1]), float(data[2])]\n",
    "            coords.append(coord)\n",
    "    return coords, dimension"
   ]
  },
  {
   "cell_type": "code",
   "execution_count": 2,
   "metadata": {},
   "outputs": [],
   "source": [
    "coords, dimension = read_coords(\"burma14.txt\")"
   ]
  },
  {
   "cell_type": "code",
   "execution_count": 3,
   "metadata": {},
   "outputs": [],
   "source": [
    " def dist(node_0, node_1):\n",
    "        \"\"\"\n",
    "        Euclidean distance between two nodes.\n",
    "        \"\"\"\n",
    "        coord_0, coord_1 = coords[node_0], coords[node_1]\n",
    "        return math.sqrt((coord_0[0] - coord_1[0]) ** 2 + (coord_0[1] - coord_1[1]) ** 2)"
   ]
  },
  {
   "cell_type": "code",
   "execution_count": 4,
   "metadata": {},
   "outputs": [
    {
     "ename": "ModuleNotFoundError",
     "evalue": "No module named 'gurobipy'",
     "output_type": "error",
     "traceback": [
      "\u001b[0;31m---------------------------------------------------------------------------\u001b[0m",
      "\u001b[0;31mModuleNotFoundError\u001b[0m                       Traceback (most recent call last)",
      "\u001b[0;32m<ipython-input-4-13c2b5f5a830>\u001b[0m in \u001b[0;36m<module>\u001b[0;34m\u001b[0m\n\u001b[0;32m----> 1\u001b[0;31m \u001b[0;32mimport\u001b[0m \u001b[0mgurobipy\u001b[0m \u001b[0;32mas\u001b[0m \u001b[0mgp\u001b[0m\u001b[0;34m\u001b[0m\u001b[0;34m\u001b[0m\u001b[0m\n\u001b[0m\u001b[1;32m      2\u001b[0m \u001b[0;32mfrom\u001b[0m \u001b[0mgurobipy\u001b[0m \u001b[0;32mimport\u001b[0m \u001b[0mGRB\u001b[0m\u001b[0;34m\u001b[0m\u001b[0;34m\u001b[0m\u001b[0m\n\u001b[1;32m      3\u001b[0m \u001b[0;34m\u001b[0m\u001b[0m\n\u001b[1;32m      4\u001b[0m \u001b[0;32mimport\u001b[0m \u001b[0mnumpy\u001b[0m \u001b[0;32mas\u001b[0m \u001b[0mnp\u001b[0m\u001b[0;34m\u001b[0m\u001b[0;34m\u001b[0m\u001b[0m\n\u001b[1;32m      5\u001b[0m \u001b[0;34m\u001b[0m\u001b[0m\n",
      "\u001b[0;31mModuleNotFoundError\u001b[0m: No module named 'gurobipy'"
     ]
    }
   ],
   "source": [
    "import gurobipy as gp\n",
    "from gurobipy import GRB\n",
    "\n",
    "import numpy as np\n",
    "\n",
    "# Inizializza il modelo\n",
    "mod = gp.Model('TSP')\n",
    "\n",
    "# Crea le varibili di decisione\n",
    "vars = mod.addVars(dist.keys(), obj=dist, vtype=GRB.BINARY, name='x')"
   ]
  },
  {
   "cell_type": "code",
   "execution_count": null,
   "metadata": {},
   "outputs": [],
   "source": [
    "nodes = [i for i in range(len(coords))]\n",
    "outstar = mod.addConstrs(vars.sum(i, '*') == 1 for i in nodes)\n",
    "\n",
    "instar = mod.addConstrs(vars.sum('*', i) == 1 for i in nodes)"
   ]
  },
  {
   "cell_type": "code",
   "execution_count": null,
   "metadata": {},
   "outputs": [],
   "source": [
    "def subtourelim(model, where):\n",
    "    if where == GRB.Callback.MIPSOL:\n",
    "        # preleva la soluzione corrente\n",
    "        vals = model.cbGetSolution(model._vars)\n",
    "        selected = gp.tuplelist((i,j) for i, j in model._vars.keys() if vals[i,j] > 0.5)\n",
    "        # cerca il ciclo di lunghezza minima nella soluzione\n",
    "        tour = subtour(selected)\n",
    "        if len(tour) < len(capoluoghi):\n",
    "            # aggiunge il vincolo di eliminazione di sottogiro\n",
    "            model.cbLazy(gp.quicksum(model._vars[i,j] for i in tour for j in tour if i != j )\n",
    "                         <= len(tour)-1)\n",
    "\n",
    "def subtour(edges):\n",
    "    unvisited = nodes[:]\n",
    "    cycle = nodes[:] \n",
    "    while unvisited:  # true if list is non-empty\n",
    "        thiscycle = []\n",
    "        neighbors = unvisited\n",
    "        while neighbors:\n",
    "            current = neighbors[0]\n",
    "            thiscycle.append(current)\n",
    "            unvisited.remove(current)\n",
    "            neighbors = [j for i, j in edges.select(current, '*')\n",
    "                         if j in unvisited]\n",
    "        if len(thiscycle) <= len(cycle):\n",
    "            cycle = thiscycle # New shortest subtour\n",
    "    return cycle"
   ]
  },
  {
   "cell_type": "code",
   "execution_count": null,
   "metadata": {},
   "outputs": [],
   "source": [
    "mod._vars = vars\n",
    "mod.Params.lazyConstraints = 1\n",
    "mod.optimize(subtourelim)"
   ]
  },
  {
   "cell_type": "code",
   "execution_count": null,
   "metadata": {},
   "outputs": [],
   "source": [
    "vals = mod.getAttr('x', vars)\n",
    "selected = gp.tuplelist((i, j) for i, j in vals.keys() if vals[i, j] > 0.5)\n",
    "\n",
    "tour = subtour(selected)\n",
    "assert len(tour) == len(capoluoghi)"
   ]
  },
  {
   "cell_type": "code",
   "execution_count": null,
   "metadata": {},
   "outputs": [],
   "source": [
    "tour"
   ]
  },
  {
   "cell_type": "code",
   "execution_count": null,
   "metadata": {},
   "outputs": [],
   "source": [
    "import matplotlib.pyplot as plt\n",
    "import networkx as nx\n",
    "\n",
    "Graph = nx.DiGraph()\n",
    "list_nodes = list(range(1, num_nodes+1))\n",
    "Graph.add_nodes_from(list_nodes)\n",
    "for i,j in links:\n",
    "    Graph.add_edge(i,j)\n",
    "\n",
    "# Definisce la posizione di ogni nodo\n",
    "node_pos = coords\n",
    "\n",
    "# Crea la lista di archi della soluzione\n",
    "red_edges = [(i,j) for i,j in links if x[i,j].x > 0]\n",
    "\n",
    "# Crea la lista di nodi della soluzione\n",
    "shortestpath = [ i for i,j in links if x[i,j].x > 0 ]\n",
    "shortestpath.append(destination)\n",
    "\n",
    "# Colora di rosso i nodi della soluzione e di verde gli altri\n",
    "node_col = ['green' if not node in shortestpath else 'red' for node in Graph.nodes()]\n",
    "# Colora di rosso gli archi della soluzione e di nero gli altri\n",
    "edge_col = ['black' if not edge in red_edges else 'red' for edge in Graph.edges()]\n",
    "\n",
    "# Draw the nodes\n",
    "nx.draw_networkx(Graph,node_pos, node_color= node_col, node_size=450)\n",
    "\n",
    "# Draw the edges\n",
    "nx.draw_networkx_edges(Graph, node_pos,edge_color= edge_col)\n",
    "\n",
    "# Draw the edge labels\n",
    "nx.draw_networkx_edge_labels(Graph, node_pos, edge_labels=cost)\n",
    "\n",
    "# Show the plot\n",
    "plt.show()"
   ]
  }
 ],
 "metadata": {
  "kernelspec": {
   "display_name": "Python 3",
   "language": "python",
   "name": "python3"
  },
  "language_info": {
   "codemirror_mode": {
    "name": "ipython",
    "version": 3
   },
   "file_extension": ".py",
   "mimetype": "text/x-python",
   "name": "python",
   "nbconvert_exporter": "python",
   "pygments_lexer": "ipython3",
   "version": "3.8.2"
  }
 },
 "nbformat": 4,
 "nbformat_minor": 4
}
