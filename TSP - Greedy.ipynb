{
 "cells": [
  {
   "cell_type": "markdown",
   "metadata": {},
   "source": [
    "# Greedy TSP"
   ]
  },
  {
   "cell_type": "code",
   "execution_count": 1,
   "metadata": {},
   "outputs": [],
   "source": [
    "import math\n",
    "def leggi_coordinate(path,indice_linea_dimensione,indice_inizio_linee_coordinate):\n",
    "\n",
    "    coordinate = []\n",
    "    with open(path, \"r\") as f:\n",
    "        linee = f.readlines()\n",
    "        linee[indice_linea_dimensione - 1].strip('\\n')\n",
    "        data = linee[indice_linea_dimensione - 1].split(':')\n",
    "        dimensione = int(data[1])\n",
    "        for i in range(0, dimensione):\n",
    "            data = linee[indice_inizio_linee_coordinate - 1 + i].split()\n",
    "            coordinata = [float(data[1]), float(data[2])]\n",
    "            coordinate.append(coordinata)\n",
    "    return coordinate, dimensione"
   ]
  },
  {
   "cell_type": "code",
   "execution_count": 2,
   "metadata": {},
   "outputs": [],
   "source": [
    "    def calcolo_distanza(nodo1, nodo2):\n",
    "        n1, n2 = coordinate[nodo1], coordinate[nodo2]\n",
    "        return math.sqrt(((n1[0] - n2[0]) ** 2) + ((n1[1] - n2[1]) ** 2))"
   ]
  },
  {
   "cell_type": "code",
   "execution_count": 3,
   "metadata": {},
   "outputs": [],
   "source": [
    "coordinate, dimensione = leggi_coordinate(\"burma14.txt\",4,9)\n",
    "nodi = [i for i in range(len(coordinate))]\n",
    "distanze = {(n1, n2): calcolo_distanza(n1, n2) for n1 in nodi for n2 in nodi if n1 != n2}"
   ]
  },
  {
   "cell_type": "code",
   "execution_count": 4,
   "metadata": {},
   "outputs": [],
   "source": [
    "def Greedy_TSP():\n",
    "    contatore = [0 for i in range(len(coordinate))]\n",
    "    i = 0\n",
    "    initial_solution = []\n",
    "    lista_archi_inseriti = []\n",
    "    distanze = {(n1, n2): calcolo_distanza(n1, n2) for n1 in nodi for n2 in nodi if n1 != n2}\n",
    "    unvisited = distanze\n",
    "    while i < (len(coordinate) - 1):\n",
    "        minimo = min(unvisited, key = lambda k: unvisited[k])\n",
    "        if i == 0:\n",
    "            contatore[minimo[0]] = 1\n",
    "        if contatore[minimo[0]] < 2 and  contatore[minimo[1]] < 2:\n",
    "            print(minimo)\n",
    "            #print(contatore)\n",
    "            contatore[minimo[0]] += 1\n",
    "            contatore[minimo[1]] += 1\n",
    "            unvisited.pop(minimo)\n",
    "            unvisited.pop((minimo[1],minimo[0]))\n",
    "            lista_archi_inseriti.append(minimo)\n",
    "            #initial_solution.append(minimo[0])\n",
    "            #initial_solution.append(minimo[1])\n",
    "        else:\n",
    "            unvisited.pop((minimo[1],minimo[0]))\n",
    "            unvisited.pop(minimo)\n",
    "            i -= 1\n",
    "        i += 1\n",
    "    return lista_archi_inseriti"
   ]
  },
  {
   "cell_type": "code",
   "execution_count": 5,
   "metadata": {},
   "outputs": [
    {
     "name": "stdout",
     "output_type": "stream",
     "text": [
      "(8, 10)\n",
      "(5, 11)\n",
      "(0, 7)\n",
      "(6, 12)\n",
      "(7, 10)\n",
      "(0, 1)\n",
      "(11, 13)\n",
      "(5, 6)\n",
      "(2, 13)\n",
      "(2, 3)\n",
      "(1, 12)\n",
      "(3, 4)\n",
      "(4, 9)\n"
     ]
    }
   ],
   "source": [
    "lista_archi_inseriti = Greedy_TSP()"
   ]
  },
  {
   "cell_type": "code",
   "execution_count": 6,
   "metadata": {},
   "outputs": [
    {
     "data": {
      "text/plain": [
       "[(8, 10),\n",
       " (5, 11),\n",
       " (0, 7),\n",
       " (6, 12),\n",
       " (7, 10),\n",
       " (0, 1),\n",
       " (11, 13),\n",
       " (5, 6),\n",
       " (2, 13),\n",
       " (2, 3),\n",
       " (1, 12),\n",
       " (3, 4),\n",
       " (4, 9)]"
      ]
     },
     "execution_count": 6,
     "metadata": {},
     "output_type": "execute_result"
    }
   ],
   "source": [
    "lista_archi_inseriti"
   ]
  },
  {
   "cell_type": "code",
   "execution_count": 31,
   "metadata": {},
   "outputs": [],
   "source": [
    "#set_archi_inseriti = set(lista_archi_inseriti)"
   ]
  },
  {
   "cell_type": "code",
   "execution_count": 32,
   "metadata": {},
   "outputs": [
    {
     "data": {
      "text/plain": [
       "{(0, 1),\n",
       " (0, 7),\n",
       " (1, 12),\n",
       " (2, 3),\n",
       " (2, 13),\n",
       " (3, 4),\n",
       " (4, 9),\n",
       " (5, 6),\n",
       " (5, 11),\n",
       " (6, 12),\n",
       " (7, 10),\n",
       " (8, 10),\n",
       " (11, 13)}"
      ]
     },
     "execution_count": 32,
     "metadata": {},
     "output_type": "execute_result"
    }
   ],
   "source": [
    "#set_archi_inseriti"
   ]
  },
  {
   "cell_type": "code",
   "execution_count": 42,
   "metadata": {},
   "outputs": [],
   "source": [
    "#red_edges = [i for i in range(len(lista_archi_inseriti)) if lst[i] in lista_archi_inseriti]"
   ]
  },
  {
   "cell_type": "code",
   "execution_count": 43,
   "metadata": {},
   "outputs": [
    {
     "data": {
      "text/plain": [
       "[]"
      ]
     },
     "execution_count": 43,
     "metadata": {},
     "output_type": "execute_result"
    }
   ],
   "source": [
    "#red_edges"
   ]
  },
  {
   "cell_type": "code",
   "execution_count": 38,
   "metadata": {},
   "outputs": [
    {
     "data": {
      "text/plain": [
       "[[10, 0],\n",
       " [10, 1],\n",
       " [10, 2],\n",
       " [10, 3],\n",
       " [10, 4],\n",
       " [10, 5],\n",
       " [10, 6],\n",
       " [10, 7],\n",
       " [10, 8],\n",
       " [10, 9],\n",
       " [10, 11],\n",
       " [10, 12],\n",
       " [10, 13]]"
      ]
     },
     "execution_count": 38,
     "metadata": {},
     "output_type": "execute_result"
    }
   ],
   "source": [
    "#lst"
   ]
  },
  {
   "cell_type": "code",
   "execution_count": 25,
   "metadata": {},
   "outputs": [],
   "source": [
    "#lst = [[lista_archi_inseriti[0][1],j] for j in range(len(coordinate)) if j != lista_archi_inseriti[0][1] ]\n",
    "#lst2 = [[j, lista_archi_inseriti[0][1]] for j in range(len(coordinate)) if j != lista_archi_inseriti[0][1] ]"
   ]
  },
  {
   "cell_type": "code",
   "execution_count": 30,
   "metadata": {},
   "outputs": [
    {
     "ename": "SyntaxError",
     "evalue": "invalid syntax (<ipython-input-30-a15e8ee5dd31>, line 3)",
     "output_type": "error",
     "traceback": [
      "\u001b[0;36m  File \u001b[0;32m\"<ipython-input-30-a15e8ee5dd31>\"\u001b[0;36m, line \u001b[0;32m3\u001b[0m\n\u001b[0;31m    elem = next([i, j] if [i, j] in lista_archi_inseriti if lista_archi_inseriti in lst, -1)\u001b[0m\n\u001b[0m    ^\u001b[0m\n\u001b[0;31mSyntaxError\u001b[0m\u001b[0;31m:\u001b[0m invalid syntax\n"
     ]
    }
   ],
   "source": [
    "#risultato = [int(lista_archi_inseriti[0][0])]\n",
    "#risultato.append(int(lista_archi_inseriti[0][1])\n",
    "#elem = next([i, j] if [i, j] in lista_archi_inseriti if lista_archi_inseriti in lst, -1)\n",
    "#if elem == -1:\n",
    "#    elem = next(i if i in lista_archi_inseriti if lista_archi_inseriti in lst2, -1)"
   ]
  },
  {
   "cell_type": "code",
   "execution_count": 12,
   "metadata": {},
   "outputs": [
    {
     "data": {
      "text/plain": [
       "8"
      ]
     },
     "execution_count": 12,
     "metadata": {},
     "output_type": "execute_result"
    }
   ],
   "source": [
    "#risultato"
   ]
  },
  {
   "cell_type": "code",
   "execution_count": 22,
   "metadata": {},
   "outputs": [
    {
     "data": {
      "text/plain": [
       "[[10, 0],\n",
       " [10, 1],\n",
       " [10, 2],\n",
       " [10, 3],\n",
       " [10, 4],\n",
       " [10, 5],\n",
       " [10, 6],\n",
       " [10, 7],\n",
       " [10, 8],\n",
       " [10, 9],\n",
       " [10, 11],\n",
       " [10, 12],\n",
       " [10, 13]]"
      ]
     },
     "execution_count": 22,
     "metadata": {},
     "output_type": "execute_result"
    }
   ],
   "source": [
    "#lst"
   ]
  },
  {
   "cell_type": "code",
   "execution_count": 23,
   "metadata": {},
   "outputs": [
    {
     "data": {
      "text/plain": [
       "[[0, 10],\n",
       " [1, 10],\n",
       " [2, 10],\n",
       " [3, 10],\n",
       " [4, 10],\n",
       " [5, 10],\n",
       " [6, 10],\n",
       " [7, 10],\n",
       " [8, 10],\n",
       " [9, 10],\n",
       " [11, 10],\n",
       " [12, 10],\n",
       " [13, 10]]"
      ]
     },
     "execution_count": 23,
     "metadata": {},
     "output_type": "execute_result"
    }
   ],
   "source": [
    "#lst2"
   ]
  },
  {
   "cell_type": "code",
   "execution_count": null,
   "metadata": {},
   "outputs": [],
   "source": [
    "#indice"
   ]
  },
  {
   "cell_type": "code",
   "execution_count": 7,
   "metadata": {},
   "outputs": [],
   "source": [
    "#setto = {(1, 2): 5, (2,1): 4, (3,2): 8}"
   ]
  },
  {
   "cell_type": "code",
   "execution_count": 8,
   "metadata": {},
   "outputs": [],
   "source": [
    "#setto"
   ]
  },
  {
   "cell_type": "code",
   "execution_count": 9,
   "metadata": {},
   "outputs": [],
   "source": [
    "#setto.pop((1, 2))"
   ]
  },
  {
   "cell_type": "code",
   "execution_count": 10,
   "metadata": {},
   "outputs": [],
   "source": [
    "#setto"
   ]
  }
 ],
 "metadata": {
  "kernelspec": {
   "display_name": "Python 3",
   "language": "python",
   "name": "python3"
  },
  "language_info": {
   "codemirror_mode": {
    "name": "ipython",
    "version": 3
   },
   "file_extension": ".py",
   "mimetype": "text/x-python",
   "name": "python",
   "nbconvert_exporter": "python",
   "pygments_lexer": "ipython3",
   "version": "3.8.2"
  }
 },
 "nbformat": 4,
 "nbformat_minor": 4
}
