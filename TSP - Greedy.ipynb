{
 "cells": [
  {
   "cell_type": "markdown",
   "metadata": {},
   "source": [
    "# Greedy TSP"
   ]
  },
  {
   "cell_type": "code",
   "execution_count": 1,
   "metadata": {},
   "outputs": [],
   "source": [
    "import math\n",
    "def leggi_coordinate(path,indice_linea_dimensione,indice_inizio_linee_coordinate):\n",
    "\n",
    "    coordinate = []\n",
    "    with open(path, \"r\") as f:\n",
    "        linee = f.readlines()\n",
    "        linee[indice_linea_dimensione - 1].strip('\\n')\n",
    "        data = linee[indice_linea_dimensione - 1].split(':')\n",
    "        dimensione = int(data[1])\n",
    "        for i in range(0, dimensione):\n",
    "            data = linee[indice_inizio_linee_coordinate - 1 + i].split()\n",
    "            coordinata = [float(data[1]), float(data[2])]\n",
    "            coordinate.append(coordinata)\n",
    "    return coordinate, dimensione"
   ]
  },
  {
   "cell_type": "code",
   "execution_count": 2,
   "metadata": {},
   "outputs": [],
   "source": [
    "    def calcolo_distanza(nodo1, nodo2):\n",
    "        n1, n2 = coordinate[nodo1], coordinate[nodo2]\n",
    "        return math.sqrt(((n1[0] - n2[0]) ** 2) + ((n1[1] - n2[1]) ** 2))"
   ]
  },
  {
   "cell_type": "code",
   "execution_count": 3,
   "metadata": {},
   "outputs": [],
   "source": [
    "coordinate, dimensione = leggi_coordinate(\"burma14.txt\",4,9)\n",
    "nodi = [i for i in range(len(coordinate))]\n",
    "distanze = {(n1, n2): calcolo_distanza(n1, n2) for n1 in nodi for n2 in nodi if n1 != n2}"
   ]
  },
  {
   "cell_type": "code",
   "execution_count": 4,
   "metadata": {},
   "outputs": [],
   "source": [
    "def convert_archi_tour(lista_archi_inseriti):\n",
    "    initial_solution = [lista_archi_inseriti[0][0]]\n",
    "    initial_solution.append(lista_archi_inseriti[0][1])\n",
    "    k = 1\n",
    "    i = 0\n",
    "    while k < (len(coordinate) - 1):\n",
    "        nodo_curr = initial_solution[k]\n",
    "        i += 1    \n",
    "        if nodo_curr == lista_archi_inseriti[i % len(lista_archi_inseriti)][0]:\n",
    "            initial_solution.append(lista_archi_inseriti[i % len(lista_archi_inseriti)][1])\n",
    "            lista_archi_inseriti.remove(lista_archi_inseriti[i % len(lista_archi_inseriti)])\n",
    "            k += 1\n",
    "        elif nodo_curr == lista_archi_inseriti[i % len(lista_archi_inseriti)][1]:\n",
    "            initial_solution.append(lista_archi_inseriti[i % len(lista_archi_inseriti)][0])\n",
    "            lista_archi_inseriti.remove(lista_archi_inseriti[i % len(lista_archi_inseriti)])\n",
    "            k += 1\n",
    "    return initial_solution\n",
    "\n",
    "def Greedy_TSP():\n",
    "    contatore = [0 for i in range(len(coordinate))]\n",
    "    i = 0\n",
    "    initial_solution = []\n",
    "    lista_archi_inseriti = []\n",
    "    distanze = {(n1, n2): calcolo_distanza(n1, n2) for n1 in nodi for n2 in nodi if n1 != n2}\n",
    "    unvisited = distanze\n",
    "    while i < (len(coordinate) - 1):\n",
    "        minimo = min(unvisited, key = lambda k: unvisited[k])\n",
    "        if i == 0:\n",
    "            contatore[minimo[0]] = 1\n",
    "        if contatore[minimo[0]] < 2 and  contatore[minimo[1]] < 2:\n",
    "            contatore[minimo[0]] += 1\n",
    "            contatore[minimo[1]] += 1\n",
    "            unvisited.pop(minimo)\n",
    "            unvisited.pop((minimo[1],minimo[0]))\n",
    "            lista_archi_inseriti.append(minimo)\n",
    "        else:\n",
    "            unvisited.pop((minimo[1],minimo[0]))\n",
    "            unvisited.pop(minimo)\n",
    "            i -= 1\n",
    "        i += 1\n",
    "    initial_solution = convert_archi_tour(lista_archi_inseriti)\n",
    "    return initial_solution"
   ]
  },
  {
   "cell_type": "code",
   "execution_count": 5,
   "metadata": {},
   "outputs": [],
   "source": [
    "initial_solution = Greedy_TSP()"
   ]
  },
  {
   "cell_type": "code",
   "execution_count": 6,
   "metadata": {},
   "outputs": [
    {
     "data": {
      "text/plain": [
       "[8, 10, 7, 0, 1, 12, 6, 5, 11, 13, 2, 3, 4, 9]"
      ]
     },
     "execution_count": 6,
     "metadata": {},
     "output_type": "execute_result"
    }
   ],
   "source": [
    "initial_solution"
   ]
  }
 ],
 "metadata": {
  "kernelspec": {
   "display_name": "Python 3",
   "language": "python",
   "name": "python3"
  },
  "language_info": {
   "codemirror_mode": {
    "name": "ipython",
    "version": 3
   },
   "file_extension": ".py",
   "mimetype": "text/x-python",
   "name": "python",
   "nbconvert_exporter": "python",
   "pygments_lexer": "ipython3",
   "version": "3.8.2"
  }
 },
 "nbformat": 4,
 "nbformat_minor": 4
}
